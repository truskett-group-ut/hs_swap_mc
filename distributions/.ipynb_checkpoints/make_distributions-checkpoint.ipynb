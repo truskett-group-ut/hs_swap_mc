{
 "cells": [
  {
   "cell_type": "code",
   "execution_count": 7,
   "metadata": {},
   "outputs": [],
   "source": [
    "from itertools import combinations\n",
    "from scipy.optimize import fsolve, newton_krylov\n",
    "import numpy as np"
   ]
  },
  {
   "cell_type": "markdown",
   "metadata": {},
   "source": [
    "## Cumulative probability distributions"
   ]
  },
  {
   "cell_type": "markdown",
   "metadata": {},
   "source": [
    "### Flat top"
   ]
  },
  {
   "cell_type": "code",
   "execution_count": 5,
   "metadata": {},
   "outputs": [],
   "source": [
    "def CPD(d_min, d_max, d):\n",
    "    return (-d_min + d)/(d_max - d_min)"
   ]
  },
  {
   "cell_type": "markdown",
   "metadata": {},
   "source": [
    "### Inverse 3rd"
   ]
  },
  {
   "cell_type": "code",
   "execution_count": 90,
   "metadata": {},
   "outputs": [],
   "source": [
    "def CPD(d_min, d_max, d):\n",
    "    A = (2.0*(d_max**2.0)*(d_min**2.0))/(d_max**2.0 - d_min**2.0)\n",
    "    return (1.0/2.0)*A*(1.0/(d_min**2.0) - 1.0/(d**2.0))"
   ]
  },
  {
   "cell_type": "markdown",
   "metadata": {},
   "source": [
    "### Inverse 6th"
   ]
  },
  {
   "cell_type": "code",
   "execution_count": 14,
   "metadata": {},
   "outputs": [],
   "source": [
    "def CPD(d_min, d_max, d):\n",
    "    return (pow(d_max,5)*(-pow(d_min,5) + pow(d,5)))/((pow(d_max,5) - pow(d_min,5))*pow(d,5))"
   ]
  },
  {
   "cell_type": "code",
   "execution_count": null,
   "metadata": {},
   "outputs": [],
   "source": []
  },
  {
   "cell_type": "markdown",
   "metadata": {},
   "source": [
    "## Make the distribution"
   ]
  },
  {
   "cell_type": "code",
   "execution_count": 91,
   "metadata": {},
   "outputs": [],
   "source": [
    "def MakeDistribution(N, d_min, d_max):\n",
    "    #store the diameters in for the distribution\n",
    "    ds = []\n",
    "\n",
    "    #first point\n",
    "    total_prob = (1.0/float(N))/2.0\n",
    "    func = lambda d: CPD(d_min, d_max, d) - total_prob\n",
    "    d_new = newton_krylov(func, d_min, method='lgmres')\n",
    "    ds = [float(d_new)]\n",
    "\n",
    "    #rest of the points\n",
    "    for i in range(1,N):\n",
    "        total_prob = (1.0/float(N))/2.0 + float(i)*(1.0/float(N))\n",
    "        func = lambda d: (CPD(d_min, d_max, d) - total_prob)**2.0\n",
    "        d_new = newton_krylov(func, d_new, method='lgmres', f_tol=0.00000001)\n",
    "        if abs(func(d_new)) < 0.00001:\n",
    "            ds.append(float(d_new))\n",
    "        else:\n",
    "            raise ValueError('Solver did not find sufficient solution for neighboring volume fractions')\n",
    "    ds = np.array(ds)\n",
    "\n",
    "    #check variance\n",
    "    n = len(ds)\n",
    "    s1 = sum(ds)/n\n",
    "    s2 = sum(ds**2.0)/n\n",
    "    s3 = sum(ds**3.0)/n\n",
    "    \n",
    "    return np.sqrt(s2-s1**2.0)/s1, s1, s2, s3, ds"
   ]
  },
  {
   "cell_type": "markdown",
   "metadata": {},
   "source": [
    "### Solve for the d_max to yield desired variance"
   ]
  },
  {
   "cell_type": "code",
   "execution_count": 92,
   "metadata": {},
   "outputs": [
    {
     "data": {
      "text/plain": [
       "24"
      ]
     },
     "execution_count": 92,
     "metadata": {},
     "output_type": "execute_result"
    }
   ],
   "source": [
    "target_cvs = np.arange(0.03, 0.26001, 0.01)\n",
    "len(target_cvs)"
   ]
  },
  {
   "cell_type": "code",
   "execution_count": 93,
   "metadata": {},
   "outputs": [
    {
     "name": "stdout",
     "output_type": "stream",
     "text": [
      "0.03\n",
      "0.04\n",
      "0.05\n",
      "0.060000000000000005\n",
      "0.07\n",
      "0.08000000000000002\n",
      "0.09000000000000001\n",
      "0.1\n",
      "0.11000000000000001\n",
      "0.12000000000000002\n",
      "0.13\n",
      "0.14\n",
      "0.15000000000000002\n",
      "0.16000000000000003\n",
      "0.17\n",
      "0.18000000000000002\n",
      "0.19000000000000003\n",
      "0.20000000000000004\n",
      "0.21000000000000005\n",
      "0.22000000000000003\n",
      "0.23000000000000004\n",
      "0.24000000000000005\n",
      "0.25\n",
      "0.26\n"
     ]
    }
   ],
   "source": [
    "N = 1000\n",
    "d_min = 1.0\n",
    "\n",
    "dists = []\n",
    "for target_cv in target_cvs:\n",
    "    print target_cv\n",
    "    func = lambda x: (MakeDistribution(N, d_min, x)[0] - target_cv)**2.0\n",
    "    d_max = newton_krylov(func, d_new, method='lgmres', f_tol=0.00000001)\n",
    "    dists.append(MakeDistribution(1000, 1.0, d_max))\n",
    "dists = np.array(dists)"
   ]
  },
  {
   "cell_type": "markdown",
   "metadata": {},
   "source": [
    "### Save"
   ]
  },
  {
   "cell_type": "code",
   "execution_count": 100,
   "metadata": {},
   "outputs": [],
   "source": [
    "import pickle"
   ]
  },
  {
   "cell_type": "code",
   "execution_count": 108,
   "metadata": {},
   "outputs": [],
   "source": [
    "#with open('./saved_distributions/inverse_third_dists.pkl', \"wb\") as out:\n",
    "#    pickle.dump(dists, out)"
   ]
  },
  {
   "cell_type": "markdown",
   "metadata": {},
   "source": [
    "### Load"
   ]
  },
  {
   "cell_type": "code",
   "execution_count": 111,
   "metadata": {},
   "outputs": [],
   "source": [
    "with open('./saved_distributions/inverse_third_dists.pkl', \"r\") as out:\n",
    "    dists = pickle.load(out)"
   ]
  },
  {
   "cell_type": "code",
   "execution_count": null,
   "metadata": {},
   "outputs": [],
   "source": []
  },
  {
   "cell_type": "markdown",
   "metadata": {},
   "source": [
    "## Check out the results"
   ]
  },
  {
   "cell_type": "code",
   "execution_count": 112,
   "metadata": {},
   "outputs": [],
   "source": [
    "import matplotlib.pyplot as plt\n",
    "%matplotlib inline"
   ]
  },
  {
   "cell_type": "code",
   "execution_count": 114,
   "metadata": {},
   "outputs": [
    {
     "data": {
      "text/plain": [
       "(array([35., 33., 31., 31., 29., 28., 26., 26., 25., 23., 23., 22., 21.,\n",
       "        21., 20., 19., 18., 17., 18., 16., 16., 15., 15., 15., 14., 13.,\n",
       "        13., 13., 12., 12., 12., 11., 11., 10., 11., 10.,  9., 10.,  9.,\n",
       "         9.,  8.,  9.,  8.,  8.,  8.,  7.,  8.,  7.,  7.,  7.,  6.,  7.,\n",
       "         6.,  6.,  6.,  6.,  6.,  5.,  6.,  5.,  5.,  5.,  5.,  5.,  5.,\n",
       "         5.,  4.,  5.,  4.,  4.,  4.,  4.,  4.,  4.,  4.,  4.,  4.,  3.,\n",
       "         4.,  3.,  3.,  4.,  3.,  3.,  3.,  3.,  3.,  3.,  3.,  3.,  3.,\n",
       "         2.,  3.,  3.,  2.,  3.,  2.,  3.,  2.,  3.]),\n",
       " array([1.00020922, 1.01493059, 1.02965196, 1.04437333, 1.0590947 ,\n",
       "        1.07381607, 1.08853743, 1.1032588 , 1.11798017, 1.13270154,\n",
       "        1.14742291, 1.16214428, 1.17686565, 1.19158702, 1.20630839,\n",
       "        1.22102976, 1.23575113, 1.2504725 , 1.26519387, 1.27991524,\n",
       "        1.29463661, 1.30935797, 1.32407934, 1.33880071, 1.35352208,\n",
       "        1.36824345, 1.38296482, 1.39768619, 1.41240756, 1.42712893,\n",
       "        1.4418503 , 1.45657167, 1.47129304, 1.48601441, 1.50073578,\n",
       "        1.51545715, 1.53017851, 1.54489988, 1.55962125, 1.57434262,\n",
       "        1.58906399, 1.60378536, 1.61850673, 1.6332281 , 1.64794947,\n",
       "        1.66267084, 1.67739221, 1.69211358, 1.70683495, 1.72155632,\n",
       "        1.73627769, 1.75099905, 1.76572042, 1.78044179, 1.79516316,\n",
       "        1.80988453, 1.8246059 , 1.83932727, 1.85404864, 1.86877001,\n",
       "        1.88349138, 1.89821275, 1.91293412, 1.92765549, 1.94237686,\n",
       "        1.95709823, 1.9718196 , 1.98654096, 2.00126233, 2.0159837 ,\n",
       "        2.03070507, 2.04542644, 2.06014781, 2.07486918, 2.08959055,\n",
       "        2.10431192, 2.11903329, 2.13375466, 2.14847603, 2.1631974 ,\n",
       "        2.17791877, 2.19264014, 2.2073615 , 2.22208287, 2.23680424,\n",
       "        2.25152561, 2.26624698, 2.28096835, 2.29568972, 2.31041109,\n",
       "        2.32513246, 2.33985383, 2.3545752 , 2.36929657, 2.38401794,\n",
       "        2.39873931, 2.41346068, 2.42818204, 2.44290341, 2.45762478,\n",
       "        2.47234615]),\n",
       " <a list of 100 Patch objects>)"
      ]
     },
     "execution_count": 114,
     "metadata": {},
     "output_type": "execute_result"
    },
    {
     "data": {
      "image/png": "[encoded data removed]",
      "text/plain": [
       "<matplotlib.figure.Figure at 0xb0476a0>"
      ]
     },
     "metadata": {},
     "output_type": "display_data"
    }
   ],
   "source": [
    "plt.hist(dists[-1][-1], bins=100)"
   ]
  },
  {
   "cell_type": "code",
   "execution_count": null,
   "metadata": {},
   "outputs": [],
   "source": []
  },
  {
   "cell_type": "markdown",
   "metadata": {},
   "source": [
    "## Make the atom type mapping for simulating"
   ]
  },
  {
   "cell_type": "code",
   "execution_count": 119,
   "metadata": {},
   "outputs": [],
   "source": [
    "def GenerateParticleIDMap(ds):\n",
    "    letter_combos = combinations('ABCDEFGHIJKLMNOPQRSTUVWXYZ', 4)\n",
    "    system_stats = \"\"\n",
    "    for d in ds:\n",
    "        atom = ''.join(next(letter_combos))\n",
    "        system_stats = system_stats + (\"(%s,%f,%i) \" % (atom,d,1))\n",
    "    return system_stats"
   ]
  },
  {
   "cell_type": "code",
   "execution_count": 120,
   "metadata": {},
   "outputs": [],
   "source": [
    "particle_id_mappings = []\n",
    "cvs = []\n",
    "for dist in dists:\n",
    "    particle_id_mappings.append(GenerateParticleIDMap(dist[-1]))\n",
    "    cvs.append(dist[0])\n",
    "cvs = np.array(cvs)"
   ]
  },
  {
   "cell_type": "code",
   "execution_count": 121,
   "metadata": {},
   "outputs": [
    {
     "data": {
      "text/plain": [
       "array([-7.43212080e-05, -6.73412510e-05, -6.00487622e-05, -5.24369806e-05,\n",
       "       -8.90082659e-05, -7.24906867e-05, -5.53147138e-05, -7.49544215e-05,\n",
       "       -7.58615077e-05,  5.93515155e-05,  8.04708866e-05,  8.14172153e-05,\n",
       "        6.20162652e-05,  8.40481914e-05,  5.34154926e-05,  6.51731419e-05,\n",
       "        7.73226950e-05,  8.98525919e-05,  5.14014635e-05,  5.80652257e-05,\n",
       "        6.49395485e-05,  7.20399659e-05,  7.93450240e-05,  8.68490033e-05])"
      ]
     },
     "execution_count": 121,
     "metadata": {},
     "output_type": "execute_result"
    }
   ],
   "source": [
    "target_cvs - cvs"
   ]
  },
  {
   "cell_type": "code",
   "execution_count": 123,
   "metadata": {},
   "outputs": [
    {
     "data": {
      "text/plain": [
       "24"
      ]
     },
     "execution_count": 123,
     "metadata": {},
     "output_type": "execute_result"
    }
   ],
   "source": [
    "len(particle_id_mappings)"
   ]
  },
  {
   "cell_type": "code",
   "execution_count": 179,
   "metadata": {},
   "outputs": [],
   "source": [
    "i = 1\n",
    "for particle_id_mapping, cv in zip(particle_id_mappings, cvs):\n",
    "    with open('./saved_distributions/inverse_third_dists_sim/composition_{0:.2g}.txt'.format(cv), \"wb\") as out:\n",
    "        out.write(\"eta=0.25\\n\")\n",
    "        out.write(\"composition={}\".format(particle_id_mapping))\n",
    "    i+=1"
   ]
  },
  {
   "cell_type": "code",
   "execution_count": 175,
   "metadata": {},
   "outputs": [],
   "source": [
    "etas = np.arange(0.525, 0.6401, 0.005)"
   ]
  },
  {
   "cell_type": "code",
   "execution_count": 176,
   "metadata": {},
   "outputs": [
    {
     "data": {
      "text/plain": [
       "array([0.525, 0.53 , 0.535, 0.54 , 0.545, 0.55 , 0.555, 0.56 , 0.565,\n",
       "       0.57 , 0.575, 0.58 , 0.585, 0.59 , 0.595, 0.6  , 0.605, 0.61 ,\n",
       "       0.615, 0.62 , 0.625, 0.63 , 0.635, 0.64 ])"
      ]
     },
     "execution_count": 176,
     "metadata": {},
     "output_type": "execute_result"
    }
   ],
   "source": [
    "etas"
   ]
  },
  {
   "cell_type": "code",
   "execution_count": 177,
   "metadata": {},
   "outputs": [
    {
     "data": {
      "text/plain": [
       "24"
      ]
     },
     "execution_count": 177,
     "metadata": {},
     "output_type": "execute_result"
    }
   ],
   "source": [
    "len(etas)"
   ]
  },
  {
   "cell_type": "code",
   "execution_count": 153,
   "metadata": {},
   "outputs": [
    {
     "data": {
      "text/plain": [
       "array([0.03007432, 0.04006734, 0.05006005, 0.06005244, 0.07008901,\n",
       "       0.08007249, 0.09005531, 0.10007495, 0.11007586, 0.11994065,\n",
       "       0.12991953, 0.13991858, 0.14993798, 0.15991595, 0.16994658,\n",
       "       0.17993483, 0.18992268, 0.19991015, 0.2099486 , 0.21994193,\n",
       "       0.22993506, 0.23992796, 0.24992065, 0.25991315])"
      ]
     },
     "execution_count": 153,
     "metadata": {},
     "output_type": "execute_result"
    }
   ],
   "source": [
    "cvs"
   ]
  },
  {
   "cell_type": "code",
   "execution_count": null,
   "metadata": {},
   "outputs": [],
   "source": []
  }
 ],
 "metadata": {
  "kernelspec": {
   "display_name": "Python 2",
   "language": "python",
   "name": "python2"
  },
  "language_info": {
   "codemirror_mode": {
    "name": "ipython",
    "version": 2
   },
   "file_extension": ".py",
   "mimetype": "text/x-python",
   "name": "python",
   "nbconvert_exporter": "python",
   "pygments_lexer": "ipython2",
   "version": "2.7.14"
  }
 },
 "nbformat": 4,
 "nbformat_minor": 2
}
